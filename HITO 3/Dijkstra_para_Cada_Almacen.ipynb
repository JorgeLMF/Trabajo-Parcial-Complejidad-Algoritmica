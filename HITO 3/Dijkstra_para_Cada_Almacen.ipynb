{
  "nbformat": 4,
  "nbformat_minor": 0,
  "metadata": {
    "colab": {
      "name": "Hito 3 Dijkstra para Cada Almacen.ipynb",
      "private_outputs": true,
      "provenance": [],
      "collapsed_sections": [],
      "include_colab_link": true
    },
    "kernelspec": {
      "name": "python3",
      "display_name": "Python 3"
    },
    "language_info": {
      "name": "python"
    }
  },
  "cells": [
    {
      "cell_type": "markdown",
      "metadata": {
        "id": "view-in-github",
        "colab_type": "text"
      },
      "source": [
        "<a href=\"https://colab.research.google.com/github/JorgeLMF/cc42_tf_202014828_201915747_201921559_201811355_201714378/blob/main/Hito_3_Dijkstra_para_Cada_Almacen.ipynb\" target=\"_parent\"><img src=\"https://colab.research.google.com/assets/colab-badge.svg\" alt=\"Open In Colab\"/></a>"
      ]
    },
    {
      "cell_type": "code",
      "metadata": {
        "id": "nsosVs5e090a"
      },
      "source": [
        "import graphviz as gv\n",
        "import numpy as np\n",
        "import pandas as pd\n",
        "import heapq as hq\n",
        "import time\n",
        "import math\n",
        "\n",
        "url = \"https://raw.githubusercontent.com/JorgeLMF/cc42_tf_202014828_201915747_201921559_201811355_201714378/main/DATASET/almacenesXyY.csv\"\n",
        "url2 = \"https://raw.githubusercontent.com/JorgeLMF/cc42_tf_202014828_201915747_201921559_201811355_201714378/main/DATASET/puntosentregaXyY.csv\"\n",
        "file_almacenes = pd.read_csv(url).to_numpy()\n",
        "pts_entrega = pd.read_csv(url2).to_numpy()\n",
        "\n",
        "long_per_side=1000\n",
        "\n",
        "warehouse_points=[]\n",
        "for line in file_almacenes:\n",
        "  m=long_per_side*(int(line[0]))+int(line[1])\n",
        "  warehouse_points.append(m)\n",
        "\n",
        "delivery_points=[]\n",
        "for line in pts_entrega:\n",
        "  m=long_per_side*(int(line[0]))+int(line[1])\n",
        "  delivery_points.append(m)"
      ],
      "execution_count": null,
      "outputs": []
    },
    {
      "cell_type": "code",
      "metadata": {
        "id": "0Plt78GW4_EW"
      },
      "source": [
        "warehouse_points[0]"
      ],
      "execution_count": null,
      "outputs": []
    },
    {
      "cell_type": "code",
      "metadata": {
        "id": "aKMWsq9_8ExR"
      },
      "source": [
        "delivery_points[0]"
      ],
      "execution_count": null,
      "outputs": []
    },
    {
      "cell_type": "code",
      "metadata": {
        "id": "fGkWeIJJ9J-2"
      },
      "source": [
        "def clusters(warehouse_points, delivery_points): # La funcion clusters pone los puntos de entrega al punto de almacenes más cercano  \n",
        "  cl = []\n",
        "  for i in range(len(warehouse_points)):\n",
        "    cl.append([])\n",
        "\n",
        "  for j in range(len(delivery_points)):\n",
        "    d = delivery_points[j]\n",
        "    mn = math.inf\n",
        "    idmn = 0\n",
        "    for i in range(len(warehouse_points)):\n",
        "      w = warehouse_points[i]\n",
        "      dis = abs(w - d)\n",
        "      if(dis < mn):\n",
        "        mn = dis\n",
        "        idmn = i\n",
        "    \n",
        "    cl[idmn].append(j)\n",
        "  \n",
        "  return cl\n",
        "\n"
      ],
      "execution_count": null,
      "outputs": []
    },
    {
      "cell_type": "code",
      "metadata": {
        "id": "jjJ7Ytl6__wi"
      },
      "source": [
        "cl = clusters(warehouse_points, delivery_points)"
      ],
      "execution_count": null,
      "outputs": []
    },
    {
      "cell_type": "code",
      "metadata": {
        "id": "T0iLri4JABrb"
      },
      "source": [
        "cl[0]"
      ],
      "execution_count": null,
      "outputs": []
    },
    {
      "cell_type": "code",
      "metadata": {
        "id": "Tp9qH_WVArqY"
      },
      "source": [
        "def djikstra_mod(s, group): # Crea el dijkstra pero la respuesta se basa en el tiempo promedio de la ruta\n",
        "  n = len(group) + 1\n",
        "  gr_aux = [s] + group\n",
        "  \n",
        "  path = [None]*n\n",
        "  cost = [math.inf]*n\n",
        "  cnt = [0]*n\n",
        "  visited = [False]*n\n",
        "\n",
        "  cost[0] = 0\n",
        "  queue = [(0, 0)]\n",
        "  \n",
        "\n",
        "  while queue:\n",
        "    g_u, u = hq.heappop(queue)\n",
        "\n",
        "    if visited[u]:\n",
        "      continue\n",
        "    \n",
        "    visited[u] = True\n",
        "    for v in range(len(gr_aux)):\n",
        "      if(v == u):\n",
        "        continue\n",
        "\n",
        "      f = abs(gr_aux[u] - gr_aux[v])\n",
        "\n",
        "      if f < cost[v] and not visited[v]:\n",
        "        cost[v] = f\n",
        "        cnt[v] = cnt[u] + 1\n",
        "        path[v] = u\n",
        "        hq.heappush(queue, (f, v))\n",
        "\n",
        "  mn = math.inf\n",
        "  idmn = None\n",
        "\n",
        "  for i in range(1, n): # Ver para cada Dijkstra se mira el tiempo promedio \n",
        "    if(cnt[i] == 0):\n",
        "      continue\n",
        "\n",
        "    d_prom = cost[i]/cnt[i]\n",
        "\n",
        "    if(d_prom < mn):\n",
        "      idmn = i\n",
        "      mn = d_prom\n",
        "  \n",
        "\n",
        "  rec = []\n",
        "\n",
        "  while(idmn != None):\n",
        "    rec.append(gr_aux[idmn])\n",
        "    idmn = path[idmn]\n",
        "\n",
        "  if(rec == []):\n",
        "    return [s]\n",
        "\n",
        "  rec.reverse()\n",
        "\n",
        "\n",
        "  return rec"
      ],
      "execution_count": null,
      "outputs": []
    },
    {
      "cell_type": "code",
      "metadata": {
        "id": "uSXc8Bi2AJ4w"
      },
      "source": [
        "def solve(warehouse_points, clusters): # Crea la ruta de los almacenes\n",
        "  paths = []\n",
        "  for i in range(len(warehouse_points)):\n",
        "    ans = []\n",
        "    s = warehouse_points[i]\n",
        "\n",
        "    while(len(clusters[i]) > 0):\n",
        "      path_sofar = djikstra_mod(s, clusters[i])\n",
        "      nw_clusters = []\n",
        "\n",
        "      for x in clusters[i]:\n",
        "        if(x not in path_sofar):\n",
        "          nw_clusters.append(x)\n",
        "\n",
        "      clusters[i] = list(nw_clusters)\n",
        "      s = path_sofar[-1]\n",
        "      \n",
        "      if(len(ans) > 0):\n",
        "        ans = ans[:-1]\n",
        "      \n",
        "      ans+= path_sofar\n",
        "\n",
        "    print(\"final de {} : \".format(i), ans)\n",
        "    paths.append(ans)\n",
        "  \n",
        "  return paths"
      ],
      "execution_count": null,
      "outputs": []
    },
    {
      "cell_type": "code",
      "metadata": {
        "id": "ZqscSFnNAqg8"
      },
      "source": [
        "ps = solve([12,34,56,900], [[10, 11, 34, 21], [28, 32], [48, 50, 52, 5], [980, 921, 878]]) #Faltan los datos"
      ],
      "execution_count": null,
      "outputs": []
    },
    {
      "cell_type": "code",
      "metadata": {
        "id": "yd7Eb-kiIMrq"
      },
      "source": [
        ""
      ],
      "execution_count": null,
      "outputs": []
    }
  ]
}
