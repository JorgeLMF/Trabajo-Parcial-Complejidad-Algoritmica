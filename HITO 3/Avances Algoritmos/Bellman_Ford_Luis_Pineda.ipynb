{
  "nbformat": 4,
  "nbformat_minor": 0,
  "metadata": {
    "colab": {
      "name": "Bellman Ford - Luis Pineda.ipynb",
      "provenance": [],
      "collapsed_sections": [],
      "authorship_tag": "ABX9TyOyi5U6yU6D9DIRZoHO3Jt1",
      "include_colab_link": true
    },
    "kernelspec": {
      "name": "python3",
      "display_name": "Python 3"
    },
    "language_info": {
      "name": "python"
    }
  },
  "cells": [
    {
      "cell_type": "markdown",
      "metadata": {
        "id": "view-in-github",
        "colab_type": "text"
      },
      "source": [
        "<a href=\"https://colab.research.google.com/github/JorgeLMF/cc42_tf_202014828_201915747_201921559_201811355_201714378/blob/main/HITO%203/Avances%20Algoritmos/Bellman_Ford_Luis_Pineda.ipynb\" target=\"_parent\"><img src=\"https://colab.research.google.com/assets/colab-badge.svg\" alt=\"Open In Colab\"/></a>"
      ]
    },
    {
      "cell_type": "code",
      "metadata": {
        "id": "fWW7Aa-xIFR-"
      },
      "source": [
        "import graphviz as gv\n",
        "import numpy as np\n",
        "import pandas as pd\n",
        "import heapq as hq\n",
        "import time\n",
        "import math\n",
        "\n",
        "url = \"https://raw.githubusercontent.com/JorgeLMF/cc42_tf_202014828_201915747_201921559_201811355_201714378/main/DATASET/almacenesXyY.csv\"\n",
        "url2 = \"https://raw.githubusercontent.com/JorgeLMF/cc42_tf_202014828_201915747_201921559_201811355_201714378/main/DATASET/puntosentregaXyY.csv\"\n",
        "file_almacenes = pd.read_csv(url).to_numpy()\n",
        "pts_entrega = pd.read_csv(url2).to_numpy()\n",
        "\n",
        "\n",
        "warehouse_points=[]\n",
        "for line in file_almacenes:\n",
        "  warehouse_points.append((int(line[0]),int(line[1])))\n",
        "\n",
        "delivery_points=[]\n",
        "for line in pts_entrega:\n",
        "  delivery_points.append((int(line[0]),int(line[1])))\n",
        "\n",
        "manhattan = lambda a,b: abs(a[0]-b[0])+abs(a[1]-b[1])"
      ],
      "execution_count": 2,
      "outputs": []
    },
    {
      "cell_type": "code",
      "metadata": {
        "id": "KqIz8ECXJBPD"
      },
      "source": [
        "def clusters(warehouse_points, delivery_points): # La funcion clusters pone los puntos de entrega al punto de almacenes más cercano  \n",
        "\n",
        "  cl = []\n",
        "  for i in range(len(warehouse_points)):\n",
        "    cl.append([])\n",
        "\n",
        "  for j in range(len(delivery_points)):\n",
        "    d = delivery_points[j]\n",
        "    mn = math.inf\n",
        "    idmn = 0\n",
        "    for i in range(len(warehouse_points)):\n",
        "      w = warehouse_points[i]\n",
        "      dis = manhattan(d,w) #se obtiene la distancia de cada warehouse_points hacia las los delivery_points\n",
        "      if(dis < mn):\n",
        "        mn = dis\n",
        "        idmn = i\n",
        "    \n",
        "    cl[idmn].append(d)\n",
        "  \n",
        "  return cl"
      ],
      "execution_count": 3,
      "outputs": []
    },
    {
      "cell_type": "code",
      "metadata": {
        "id": "qiiiJycMK1Pg"
      },
      "source": [
        "cl = clusters(warehouse_points, delivery_points)"
      ],
      "execution_count": 4,
      "outputs": []
    },
    {
      "cell_type": "code",
      "metadata": {
        "id": "x0sZr4EpK3jy"
      },
      "source": [
        "def bellmanFord(G, s):\n",
        "  n = len(G)\n",
        "\n",
        "  #initialize\n",
        "  cost = [float('inf')]*n\n",
        "  cost[s]=0\n",
        "  path = [-1]*n\n",
        "\n",
        "  #relax\n",
        "  for _ in range(n-1):\n",
        "    for u in range(n):\n",
        "      for v, w in G[u]:\n",
        "        if cost[u] + w < cost[v]:\n",
        "          cost[v] = cost[u]+w\n",
        "          path[v]=u\n",
        "  \n",
        "  #check negative cycle\n",
        "  for u in range(n):\n",
        "    for v, w in G[u]:\n",
        "      if cost[u]+w<cost[v]:\n",
        "        return None, None\n",
        "\n",
        "  return path, cost"
      ],
      "execution_count": 6,
      "outputs": []
    }
  ]
}