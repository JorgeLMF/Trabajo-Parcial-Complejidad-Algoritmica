{
  "nbformat": 4,
  "nbformat_minor": 0,
  "metadata": {
    "colab": {
      "name": "Trabajo_Final",
      "provenance": []
    },
    "kernelspec": {
      "name": "python3",
      "display_name": "Python 3"
    },
    "language_info": {
      "name": "python"
    }
  },
  "cells": [
    {
      "cell_type": "code",
      "metadata": {
        "id": "Rcv83mAsmRbL"
      },
      "source": [
        "import graphviz as gv\n",
        "import numpy as np\n",
        "import pandas as pd"
      ],
      "execution_count": 71,
      "outputs": []
    },
    {
      "cell_type": "code",
      "metadata": {
        "id": "kGFKBdrBh5fM"
      },
      "source": [
        "import pandas as pd\n",
        "url = \"https://raw.githubusercontent.com/JorgeLMF/cc42_tf_202014828_201915747_201921559_201811355_201714378/main/DATASET/almacenesXyY.csv\"\n",
        "url2 = \"https://raw.githubusercontent.com/JorgeLMF/cc42_tf_202014828_201915747_201921559_201811355_201714378/main/DATASET/puntosentregaXyY.csv\"\n",
        "file_almacenes = pd.read_csv(url).to_numpy()\n",
        "pts_entrega = pd.read_csv(url2).to_numpy()"
      ],
      "execution_count": 2,
      "outputs": []
    },
    {
      "cell_type": "markdown",
      "metadata": {
        "id": "X8cOMPrZmcgP"
      },
      "source": [
        "###MOSTRAR GRAFO"
      ]
    },
    {
      "cell_type": "code",
      "metadata": {
        "id": "5KwaJNNAmfXL"
      },
      "source": [
        "def adjlShow(L, labels=None, directed=False, weighted=False, path=[],\n",
        "             layout=\"sfdp\"):\n",
        "  g = gv.Digraph(\"G\") if directed else gv.Graph(\"G\")\n",
        "  g.graph_attr[\"layout\"] = layout\n",
        "  g.edge_attr[\"color\"] = \"gray\"\n",
        "  g.node_attr[\"color\"] = \"orangered\"\n",
        "  g.node_attr[\"width\"] = \"0.1\"\n",
        "  g.node_attr[\"height\"] = \"0.1\"\n",
        "  g.node_attr[\"fontsize\"] = \"8\"\n",
        "  g.node_attr[\"fontcolor\"] = \"mediumslateblue\"\n",
        "  g.node_attr[\"fontname\"] = \"monospace\"\n",
        "  g.edge_attr[\"fontsize\"] = \"8\"\n",
        "  g.edge_attr[\"fontname\"] = \"monospace\"\n",
        "  n = len(L)\n",
        "  for u in range(n):\n",
        "    g.node(str(u), labels[u] if labels else str(u))\n",
        "  added = set()\n",
        "  for v, u in enumerate(path):\n",
        "    if u != None:\n",
        "      if weighted:\n",
        "        for vi, w in G[u]:\n",
        "          if vi == v:\n",
        "            break\n",
        "        g.edge(str(u), str(v), str(w), dir=\"forward\", penwidth=\"2\", color=\"orange\")\n",
        "      else:\n",
        "        g.edge(str(u), str(v), dir=\"forward\", penwidth=\"2\", color=\"orange\")\n",
        "      added.add(f\"{u},{v}\")\n",
        "      added.add(f\"{v},{u}\")\n",
        "  if weighted:\n",
        "    for u in range(n):\n",
        "      for v, w in L[u]:\n",
        "        if not directed and not f\"{u},{v}\" in added:\n",
        "          added.add(f\"{u},{v}\")\n",
        "          added.add(f\"{v},{u}\")\n",
        "          g.edge(str(u), str(v), str(w))\n",
        "        elif directed:\n",
        "          g.edge(str(u), str(v), str(w))\n",
        "  else:\n",
        "    for u in range(n):\n",
        "      for v in L[u]:\n",
        "        if not directed and not f\"{u},{v}\" in added:\n",
        "          added.add(f\"{u},{v}\")\n",
        "          added.add(f\"{v},{u}\")\n",
        "          g.edge(str(u), str(v))\n",
        "        elif directed:\n",
        "          g.edge(str(u), str(v))\n",
        "  return g"
      ],
      "execution_count": 80,
      "outputs": []
    },
    {
      "cell_type": "markdown",
      "metadata": {
        "id": "bc8YdYYuqo-K"
      },
      "source": [
        "###LA_MATRIX"
      ]
    },
    {
      "cell_type": "code",
      "metadata": {
        "id": "71OeZMFxn6R3"
      },
      "source": [
        "la_matrix = []\n",
        "for i in range(1000):\n",
        "    l = [0]*1000\n",
        "    la_matrix.append(l)\n",
        "\n",
        "for line in file_almacenes:\n",
        "    la_matrix[line[0]][line[1]] = 1\n",
        "\n",
        "for line in pts_entrega:\n",
        "    if la_matrix[line[0]][line[1]] != 1:\n",
        "       la_matrix[line[0]][line[1]] = 2"
      ],
      "execution_count": 41,
      "outputs": []
    },
    {
      "cell_type": "code",
      "metadata": {
        "id": "VyoN4XqRb9OS"
      },
      "source": [
        "def mostrar_matriz():\n",
        "  for line in la_matrix:\n",
        "    print(line)"
      ],
      "execution_count": 74,
      "outputs": []
    },
    {
      "cell_type": "markdown",
      "metadata": {
        "id": "2NHoLTeYq7aW"
      },
      "source": [
        "##ELABORACIÓN"
      ]
    },
    {
      "cell_type": "code",
      "metadata": {
        "id": "fgpkf4Kmvqsb"
      },
      "source": [
        "puntos = list()\n",
        "n = 1000\n",
        "for i in range(n*n):\n",
        "    l = [0]*3\n",
        "    puntos.append(l)\n",
        "\n",
        "for i in range(n):\n",
        "  for j in range(n):\n",
        "    puntos[j+n*i][0] = j                # 0 = eje x\n",
        "    puntos[j+n*i][1] = i                # 1 = eje y\n",
        "    puntos[j+n*i][2] = la_matrix[i][j]  # 2 = tipo de punto"
      ],
      "execution_count": 44,
      "outputs": []
    },
    {
      "cell_type": "code",
      "metadata": {
        "colab": {
          "base_uri": "https://localhost:8080/"
        },
        "id": "7X_E_pldYuLN",
        "outputId": "8355f5eb-4e77-4be7-dcae-9cbd8266bdb8"
      },
      "source": [
        "for i in range(20,29):\n",
        "  num_punto = i\n",
        "  print(i,\":\",(puntos[i][0],puntos[i][1]),puntos[i][2])"
      ],
      "execution_count": 53,
      "outputs": [
        {
          "output_type": "stream",
          "name": "stdout",
          "text": [
            "20 : (20, 0) 0\n",
            "21 : (21, 0) 0\n",
            "22 : (22, 0) 0\n",
            "23 : (23, 0) 0\n",
            "24 : (24, 0) 2\n",
            "25 : (25, 0) 0\n",
            "26 : (26, 0) 0\n",
            "27 : (27, 0) 0\n",
            "28 : (28, 0) 0\n"
          ]
        }
      ]
    },
    {
      "cell_type": "code",
      "metadata": {
        "id": "UycQDygbZpnh"
      },
      "source": [
        "grafo = list()\n",
        "\n",
        "for i in range(n):\n",
        "  for j in range(n):\n",
        "    l = list()\n",
        "    if j+n*i-1000 >= 0:\n",
        "      l.append(j+n*i-1000)\n",
        "    if j+n*i-1 >= 0:\n",
        "      l.append(j+n*i-1)\n",
        "    if j+n*i+1 <= 999999:\n",
        "      l.append(j+n*i+1)\n",
        "    if j+n*i+1000 <= 999999:\n",
        "      l.append(j+n*i+1000)\n",
        "    \n",
        "    grafo.append(l)"
      ],
      "execution_count": 67,
      "outputs": []
    },
    {
      "cell_type": "code",
      "metadata": {
        "id": "7KDeqQZuiJnc"
      },
      "source": [
        "# BFS\n",
        "\n",
        "def bfs(G, s):\n",
        "  n = len(G)\n",
        "  visited = [False]*n\n",
        "  parent = [None]*n\n",
        "  queue = [s]\n",
        "  visited[s] = True\n",
        "\n",
        "  while queue:\n",
        "    u = queue.pop(0)\n",
        "    for v in G[u]:\n",
        "      if not visited[v]:\n",
        "        visited[v] = True\n",
        "        parent[v] = u\n",
        "        queue.append(v)\n",
        "\n",
        "  return parent"
      ],
      "execution_count": 65,
      "outputs": []
    },
    {
      "cell_type": "code",
      "metadata": {
        "id": "_-jvVI_niLEj"
      },
      "source": [
        "BFS_G = bfs(grafo,0)"
      ],
      "execution_count": 77,
      "outputs": []
    },
    {
      "cell_type": "code",
      "metadata": {
        "colab": {
          "base_uri": "https://localhost:8080/",
          "height": 358
        },
        "id": "VeR4rTvSkvCj",
        "outputId": "191e980d-6ea0-47ed-f980-d28b912fdbcc"
      },
      "source": [
        "adjlShow(grafo, path = BFS_G)"
      ],
      "execution_count": 83,
      "outputs": []
    }
  ]
}
