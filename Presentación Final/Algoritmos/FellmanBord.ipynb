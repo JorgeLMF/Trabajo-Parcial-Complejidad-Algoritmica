{
  "nbformat": 4,
  "nbformat_minor": 0,
  "metadata": {
    "colab": {
      "name": "Testing Notebook.ipynb",
      "provenance": [],
      "authorship_tag": "ABX9TyNajmaPLkuKKGMRexKrK8KE",
      "include_colab_link": true
    },
    "kernelspec": {
      "display_name": "Python 3",
      "name": "python3"
    },
    "language_info": {
      "name": "python"
    }
  },
  "cells": [
    {
      "cell_type": "markdown",
      "metadata": {
        "id": "view-in-github",
        "colab_type": "text"
      },
      "source": [
        "<a href=\"https://colab.research.google.com/github/JorgeLMF/cc42_tf_202014828_201915747_201921559_201811355/blob/main/Presentaci%C3%B3n%20Final/Algoritmos/FellmanBord.ipynb\" target=\"_parent\"><img src=\"https://colab.research.google.com/assets/colab-badge.svg\" alt=\"Open In Colab\"/></a>"
      ]
    },
    {
      "cell_type": "markdown",
      "metadata": {
        "id": "JQQr_9iCzWBE"
      },
      "source": [
        "# FellmanBord"
      ]
    },
    {
      "cell_type": "code",
      "metadata": {
        "id": "WLLmaKOdzXBY"
      },
      "source": [
        "import graphviz as gv\n",
        "import numpy as np\n",
        "import pandas as pd\n",
        "import heapq as hq\n",
        "import time\n",
        "import math\n",
        "\n",
        "url = \"https://raw.githubusercontent.com/JorgeLMF/cc42_tf_202014828_201915747_201921559_201811355_201714378/main/DATASET/almacenesXyY.csv\"\n",
        "url2 = \"https://raw.githubusercontent.com/JorgeLMF/cc42_tf_202014828_201915747_201921559_201811355_201714378/main/DATASET/puntosentregaXyY.csv\"\n",
        "file_almacenes = pd.read_csv(url).to_numpy()\n",
        "pts_entrega = pd.read_csv(url2).to_numpy()\n",
        "\n",
        "\n",
        "warehouse_points=[]\n",
        "for line in file_almacenes:\n",
        "  warehouse_points.append((int(line[0]),int(line[1])))\n",
        "\n",
        "delivery_points=[]\n",
        "for line in pts_entrega:\n",
        "  delivery_points.append((int(line[0]),int(line[1])))\n",
        "\n",
        "manhattan = lambda a,b: abs(a[0]-b[0])+abs(a[1]-b[1])"
      ],
      "execution_count": null,
      "outputs": []
    },
    {
      "cell_type": "code",
      "metadata": {
        "id": "5_DAYaFOzpfP"
      },
      "source": [
        "def clusters(warehouse_points, delivery_points): # La funcion clusters pone los puntos de entrega al punto de almacenes más cercano  \n",
        "\n",
        "  cl = []\n",
        "  for i in range(len(warehouse_points)):\n",
        "    cl.append([])\n",
        "\n",
        "  for j in range(len(delivery_points)):\n",
        "    d = delivery_points[j]\n",
        "    mn = math.inf\n",
        "    idmn = 0\n",
        "    for i in range(len(warehouse_points)):\n",
        "      w = warehouse_points[i]\n",
        "      dis = manhattan(d,w) #se obtiene la distancia de cada warehouse_points hacia las los delivery_points\n",
        "      if(dis < mn):\n",
        "        mn = dis\n",
        "        idmn = i\n",
        "    \n",
        "    cl[idmn].append(d)\n",
        "  \n",
        "  return cl"
      ],
      "execution_count": null,
      "outputs": []
    },
    {
      "cell_type": "code",
      "metadata": {
        "id": "VplpLfAOztxf"
      },
      "source": [
        "def fellmanBord(cluster, origin):\n",
        "  cluster.insert(0,origin)  #se agrega el origen como primer nodo del cluster\n",
        "  n = len(cluster)\n",
        "  cost = [float('inf')]*n\n",
        "  cost[0]=0\n",
        "  previous = [-1]*n\n",
        "\n",
        "  listadj = [[]for _ in range(n)]   #creamos una lista de adyacencia para saber que nodos conectan con que otros nodos\n",
        "  for i in range(n):\n",
        "    for j in range(n):\n",
        "      if i!=j:\n",
        "          if manhattan(cluster[j],cluster[i]) < 50: # si la distancia manhattan entre 2 nodos es mayor a 50(mt), asumimos que no estan conectados\n",
        "            listadj[i].append((j, manhattan(cluster[j], cluster[i]))) # agregamos el destino y su costo\n",
        "      \n",
        "  for _ in range(n-1):\n",
        "    for u in range(n):\n",
        "      for v, w in listadj[u]:\n",
        "        if cost[u] + w < cost[v]:\n",
        "          cost[v] = cost[u] + w\n",
        "          previous[v] = u # buscamos entre los nodos el camino mas corto y marcamos que su predecesor es el origen del cual parte el camino\n",
        "\n",
        "  for u in range(n):\n",
        "    for v, w in listadj[u]:\n",
        "      if cost[u] + w < cost[v]:\n",
        "        return None, None # verificacion para caminos negativos\n",
        "\n",
        "  return previous, cost\n"
      ],
      "execution_count": null,
      "outputs": []
    },
    {
      "cell_type": "code",
      "metadata": {
        "colab": {
          "base_uri": "https://localhost:8080/"
        },
        "id": "V8bh21dpzxRe",
        "outputId": "b4637ee0-32d4-47d8-84d6-13cdc1e33fa4"
      },
      "source": [
        "myClusters = clusters(warehouse_points, delivery_points)\n",
        "for i in range(0,25):\n",
        "  print(fellmanBord(myClusters[i], warehouse_points[i]))\n",
        "\n",
        "# al final terminaremos con una lista donde cada elemento de la lista señala a su elemento padre. si un elemento tiene varios nodos hijos, significa que el algoritmo considera que enviar un\n",
        "# segundo vehículo desde dicho nodo padre es más eficiente que enviar al vehículo inicial a traves de otro camino.\n",
        "# el segundo elemento retornado es una lista con los costos minimos para llegar al nodo actual. este costo es sobre el nodo padre, no el nodo numericamente anterior"
      ],
      "execution_count": null,
      "outputs": [
        {
          "output_type": "stream",
          "name": "stdout",
          "text": [
            "([-1, 3, 0, 0, 24, 24, 21, 15, 12, 0, 3, 9, 0, 3, 0, 5, 0, 22, 3, 2, 0, 19, 0, 0, 2, 9, 12, 3, 0, 12, 12, 0, 3, 3, 0, 0, 8], [0, 88, 18, 47, 84, 83, 113, 133, 71, 45, 86, 72, 40, 65, 32, 126, 8, 50, 72, 53, 27, 89, 30, 34, 59, 94, 60, 73, 25, 68, 87, 39, 72, 93, 8, 40, 95])\n",
            "([-1, 28, 17, 0, 43, 0, 0, 0, 32, 17, 25, 7, 0, 0, 7, 0, 7, 7, 27, 0, 23, 5, 25, 7, 23, 0, 0, 0, 0, 5, 11, 0, 28, 0, 7, 13, 13, 0, 28, 40, 27, 32, 28, 7], [0, 61, 97, 21, 112, 20, 27, 33, 98, 103, 82, 73, 2, 47, 79, 27, 72, 57, 67, 41, 94, 62, 72, 62, 86, 43, 21, 25, 36, 65, 94, 9, 75, 3, 52, 58, 77, 45, 67, 85, 60, 96, 83, 80])\n",
            "([-1, 18, 0, 23, 13, 9, 37, 2, 18, 7, 7, 4, 0, 0, 10, 4, 14, 50, 53, 12, 59, 23, 0, 53, 0, 12, 0, 45, 58, 0, 2, 4, 43, 50, 0, 53, 10, 0, 0, 4, 19, 53, 58, 26, 50, 2, 47, 0, 18, 58, 37, 9, 0, 2, 4, 9, 25, 4, 7, 2], [0, 160, 36, 137, 64, 146, 51, 77, 163, 115, 86, 88, 26, 19, 135, 92, 146, 79, 122, 58, 114, 176, 39, 128, 36, 66, 30, 101, 150, 38, 81, 80, 87, 80, 33, 104, 131, 8, 19, 93, 82, 110, 140, 63, 83, 84, 91, 48, 152, 138, 56, 158, 29, 83, 85, 163, 83, 87, 126, 71])\n",
            "([-1, 17, 17, 30, 14, 14, 45, 21, 0, 17, 42, 17, 38, 0, 0, 30, 17, 14, 0, 14, 0, 6, 26, 31, 7, 43, 0, 0, 0, 0, 19, 0, 30, 45, 14, 26, 0, 0, 0, 45, 0, 17, 38, 0, 0, 14, 14, 18], [0, 128, 134, 165, 71, 88, 104, 182, 38, 130, 97, 102, 67, 34, 47, 163, 118, 86, 27, 77, 48, 146, 71, 59, 210, 80, 48, 13, 35, 24, 116, 25, 144, 128, 93, 73, 40, 39, 30, 110, 46, 120, 67, 33, 18, 87, 82, 50])\n",
            "([-1, 0, 0, 0, 0, 0, 2, 2, 0, 4, 0, 0, 0, 0, 0], [0, 15, 43, 35, 20, 34, 56, 74, 40, 66, 49, 24, 32, 12, 24])\n",
            "([-1, 2, 0, 0, 0, 2, 0, 3, 0, 14, 2, 14, 19, 0, 0, 0, 0, 14, 0, 4, 0, 8, 14, 0, 0, 2, 0], [0, 62, 49, 20, 44, 89, 29, 51, 45, 63, 76, 56, 100, 12, 27, 35, 33, 61, 34, 76, 25, 94, 55, 46, 13, 73, 43])\n",
            "([-1, 0, 0, 22, 0, 3, 0, 22, 6, 3, 0, 0, 0, 11, 0, 0, 3, 0, 11, 0, 0, 3, 10, 4, 10], [0, 10, 4, 87, 18, 127, 35, 100, 50, 107, 15, 33, 42, 66, 41, 20, 127, 21, 60, 2, 33, 114, 52, 56, 54])\n",
            "([-1, 0, 4, 0, 0, 0, 0, 0, 21, 21, 0, 12, 6, 22, 10, 0, 21, 10, 0, 0, 0, 4, 12, 12, 12, 4, 4, 4], [0, 11, 59, 3, 26, 32, 49, 34, 105, 107, 49, 129, 84, 147, 78, 42, 102, 91, 43, 20, 46, 59, 119, 131, 131, 66, 66, 66])\n",
            "([-1, 52, 24, 49, 0, 4, 24, 52, 4, 4, 24, 24, 65, 45, 57, 58, 0, 16, 30, 45, 52, 36, 26, 5, 0, 9, 0, 35, 45, 67, 0, 0, 0, 16, 5, 33, 49, 4, 36, 9, 63, 38, 30, 26, 0, 58, 24, 58, 4, 0, 57, 60, 24, 24, 58, 16, 52, 49, 0, 36, 58, 24, 4, 52, 4, 58, 57, 60], [0, 109, 77, 72, 48, 69, 55, 92, 96, 82, 72, 52, 98, 105, 98, 70, 44, 58, 68, 121, 122, 113, 81, 99, 37, 99, 46, 135, 115, 157, 47, 40, 14, 71, 100, 116, 68, 92, 96, 118, 153, 128, 62, 85, 10, 92, 71, 67, 94, 27, 110, 118, 85, 55, 81, 71, 129, 69, 45, 85, 74, 78, 72, 125, 64, 82, 105, 123])\n",
            "([-1, 0, 4, 13, 0, 7, 17, 0, 7, 14, 4, 15, 7, 0, 28, 0, 4, 0, 4, 16, 4, 15, 4, 18, 7, 13, 0, 7, 0, 18, 0], [0, 19, 63, 66, 46, 52, 60, 34, 73, 94, 86, 64, 56, 32, 56, 16, 93, 35, 74, 114, 89, 54, 72, 98, 53, 57, 3, 65, 10, 101, 41])\n",
            "([-1, 2, 0, 0, 7, 8, 7, 0, 7, 0, 7, 0, 0, 8, 0, 0, 2, 2], [0, 51, 8, 31, 63, 83, 74, 30, 59, 21, 65, 13, 19, 82, 5, 27, 51, 56])\n",
            "([-1, 35, 1, 1, 0, 0, 1, 0, 2, 17, 9, 30, 0, 2, 22, 0, 29, 21, 19, 0, 0, 0, 17, 7, 7, 1, 1, 0, 9, 0, 0, 7, 17, 17, 0, 0, 17, 1, 2], [0, 60, 90, 93, 23, 12, 106, 42, 115, 111, 145, 62, 36, 119, 130, 4, 66, 77, 98, 49, 35, 36, 107, 73, 88, 102, 108, 34, 148, 17, 38, 79, 101, 116, 45, 13, 99, 89, 129])\n",
            "([-1, 40, 3, 0, 45, 3, 32, 45, 32, 27, 17, 17, 23, 17, 0, 16, 0, 0, 12, 22, 0, 38, 0, 22, 0, 17, 5, 17, 23, 40, 32, 23, 25, 0, 28, 42, 17, 0, 22, 8, 25, 25, 0, 3, 27, 22, 0, 3], [0, 150, 78, 32, 79, 72, 150, 84, 132, 116, 56, 90, 103, 73, 9, 69, 22, 49, 135, 72, 8, 102, 29, 78, 11, 74, 87, 85, 124, 151, 143, 100, 104, 49, 134, 84, 54, 19, 76, 160, 122, 108, 47, 76, 127, 63, 31, 51])\n",
            "([-1, 0, 40, 9, 27, 14, 22, 14, 0, 8, 30, 34, 15, 0, 0, 0, 35, 0, 0, 14, 23, 35, 8, 1, 13, 15, 0, 0, 40, 16, 14, 0, 34, 27, 0, 0, 25, 0, 0, 9, 27], [0, 14, 91, 89, 54, 61, 105, 56, 31, 74, 99, 52, 87, 25, 45, 42, 83, 35, 20, 70, 78, 77, 71, 53, 66, 83, 25, 27, 108, 94, 72, 24, 56, 61, 12, 41, 93, 47, 41, 81, 65])\n",
            "([-1, 55, 51, 0, 12, 0, 66, 12, 12, 0, 41, 41, 51, 41, 12, 14, 66, 13, 66, 0, 0, 12, 12, 12, 0, 50, 5, 12, 12, 50, 41, 41, 51, 12, 66, 36, 5, 13, 51, 0, 12, 60, 51, 33, 12, 0, 0, 51, 24, 32, 36, 0, 12, 41, 0, 41, 66, 32, 2, 0, 0, 32, 36, 66, 46, 66, 41, 55, 33, 46], [0, 142, 86, 13, 125, 44, 150, 120, 127, 43, 88, 96, 79, 125, 96, 137, 154, 136, 155, 30, 16, 120, 124, 110, 34, 156, 85, 125, 114, 155, 123, 113, 85, 125, 129, 130, 91, 150, 94, 34, 116, 79, 95, 141, 98, 41, 46, 91, 51, 116, 120, 46, 97, 123, 42, 108, 158, 132, 105, 44, 38, 103, 124, 149, 74, 141, 120, 137, 135, 60])\n",
            "([-1, 32, 6, 1, 0, 6, 9, 6, 0, 0, 11, 6, 1, 21, 6, 1, 4, 0, 6, 1, 4, 0, 1, 6, 32, 0, 0, 6, 6, 2, 0, 6, 0, 4, 11], [0, 71, 83, 103, 28, 96, 54, 83, 13, 9, 112, 78, 100, 87, 92, 102, 69, 29, 91, 103, 62, 38, 110, 103, 79, 33, 49, 91, 79, 114, 24, 97, 41, 71, 105])\n",
            "([-1, 0, 0, 22, 1, 1, 0, 0, 20, 0, 16, 0, 0, 2, 2, 2, 4, 0, 17, 4, 0, 4, 0, 0], [0, 6, 47, 61, 54, 53, 45, 18, 73, 36, 112, 48, 25, 57, 69, 69, 101, 16, 53, 93, 41, 102, 31, 13])\n",
            "([-1, 0, 0, 20, 1, 7, 17, 0, 7, 0, 0, 16, 1, 0, 16, 0, 0, 16, 20, 0, 16, 1, 9, 0], [0, 15, 43, 101, 59, 65, 96, 23, 62, 32, 40, 64, 51, 6, 76, 43, 40, 89, 90, 27, 80, 54, 55, 47])\n",
            "([-1, 0, 0, 0, 19, 13, 0, 0, 1, 0, 6, 0, 13, 19, 0, 0, 13, 0, 1, 0, 7], [0, 11, 36, 2, 73, 103, 46, 28, 52, 29, 67, 45, 106, 75, 35, 23, 87, 22, 57, 26, 73])\n",
            "([-1, 0, 0, 0, 0, 25, 25, 15, 11, 30, 6, 0, 6, 0, 15, 0, 32, 0, 25, 21, 5, 15, 0, 32, 0, 0, 0, 0, 3, 0, 25, 0, 3, 3, 0, 3, 5, 0, 15, 0], [0, 47, 28, 30, 27, 57, 83, 50, 52, 102, 111, 23, 108, 22, 55, 30, 107, 13, 51, 98, 101, 60, 44, 88, 41, 41, 34, 46, 76, 47, 84, 38, 67, 51, 40, 76, 96, 17, 53, 22])\n",
            "([-1, 18, 7, 8, 18, 18, 33, 0, 0, 21, 0, 7, 33, 18, 22, 0, 0, 33, 0, 12, 0, 18, 18, 20, 34, 0, 24, 0, 25, 0, 14, 7, 28, 18, 0, 8, 0, 18, 28], [0, 81, 53, 54, 61, 64, 121, 35, 17, 127, 42, 58, 114, 85, 127, 31, 9, 115, 37, 145, 40, 81, 81, 52, 75, 29, 94, 38, 66, 37, 135, 67, 91, 85, 28, 52, 22, 79, 94])\n",
            "([-1, 6, 0, 0, 0, 10, 0, 2, 0, 0, 0, 6, 0, 0, 0, 24, 6, 0, 4, 17, 3, 0, 0, 0, 10, 10, 0, 10, 0, 3], [0, 74, 24, 44, 38, 88, 45, 50, 46, 27, 39, 75, 20, 35, 8, 100, 60, 32, 83, 51, 70, 24, 20, 44, 57, 55, 26, 56, 20, 53])\n",
            "([-1, 0, 0, 0, 0, 0, 0, 0, 16, 7, 4, 0, 0, 6, 4, 0, 12, 0, 9, 16, 0], [0, 27, 21, 39, 28, 31, 48, 21, 111, 57, 57, 36, 45, 94, 66, 31, 84, 25, 105, 121, 25])\n",
            "([-1, 0, 15, 11, 0, 11, 0, 15, 7, 15, 0, 0, 3, 11, 2, 0, 0, 0, 6, 0, 3], [0, 18, 50, 57, 26, 50, 48, 52, 95, 85, 33, 11, 98, 55, 97, 38, 22, 48, 90, 49, 87])\n",
            "([-1, 26, 32, 5, 21, 0, 27, 13, 22, 36, 0, 0, 10, 25, 21, 39, 19, 22, 5, 5, 13, 0, 11, 0, 0, 0, 0, 19, 42, 0, 10, 10, 0, 10, 5, 21, 24, 0, 5, 19, 19, 19, 0, 24, 0, 21, 39, 24, 5, 0, 0, 22, 36], [0, 78, 63, 63, 61, 26, 115, 92, 119, 102, 31, 28, 56, 68, 77, 135, 97, 124, 67, 61, 94, 37, 76, 23, 46, 20, 30, 79, 58, 25, 56, 69, 18, 58, 71, 83, 63, 34, 62, 95, 102, 102, 49, 60, 26, 71, 135, 59, 65, 49, 28, 91, 104])\n"
          ]
        }
      ]
    },
    {
      "cell_type": "code",
      "metadata": {
        "id": "G6oySxCYW4BD"
      },
      "source": [
        ""
      ],
      "execution_count": null,
      "outputs": []
    }
  ]
}